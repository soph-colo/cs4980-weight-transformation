{
 "cells": [
  {
   "attachments": {},
   "cell_type": "markdown",
   "metadata": {},
   "source": [
    "## FNN: Fully Connected Neural Network - Basics\n",
    "\n",
    "### Goal: Classify whether a mushroom is poisonous or edible based on its attributes.\n",
    "\n",
    "#### Structure: Here, we will create 3 different versions of a FNN. They will all contain the same loss function, optimizer, and so on. The difference will be in the number of layers, where we will track how the weights change along with the performance of the model."
   ]
  },
  {
   "attachments": {},
   "cell_type": "markdown",
   "metadata": {},
   "source": [
    "### 0. Imports"
   ]
  },
  {
   "cell_type": "code",
   "execution_count": 1,
   "metadata": {},
   "outputs": [],
   "source": [
    "import pandas as pd\n",
    "import torch\n",
    "import torch.nn as nn\n",
    "from torch.utils.data import DataLoader, TensorDataset\n",
    "from torch import optim\n",
    "from sklearn.model_selection import train_test_split\n",
    "from sklearn.metrics import accuracy_score\n",
    "from matplotlib import pyplot as plt"
   ]
  },
  {
   "attachments": {},
   "cell_type": "markdown",
   "metadata": {},
   "source": [
    "### 1. Read Data"
   ]
  },
  {
   "cell_type": "code",
   "execution_count": 2,
   "metadata": {},
   "outputs": [
    {
     "data": {
      "text/html": [
       "<div>\n",
       "<style scoped>\n",
       "    .dataframe tbody tr th:only-of-type {\n",
       "        vertical-align: middle;\n",
       "    }\n",
       "\n",
       "    .dataframe tbody tr th {\n",
       "        vertical-align: top;\n",
       "    }\n",
       "\n",
       "    .dataframe thead th {\n",
       "        text-align: right;\n",
       "    }\n",
       "</style>\n",
       "<table border=\"1\" class=\"dataframe\">\n",
       "  <thead>\n",
       "    <tr style=\"text-align: right;\">\n",
       "      <th></th>\n",
       "      <th>cap-diameter</th>\n",
       "      <th>cap-shape</th>\n",
       "      <th>gill-attachment</th>\n",
       "      <th>gill-color</th>\n",
       "      <th>stem-height</th>\n",
       "      <th>stem-width</th>\n",
       "      <th>stem-color</th>\n",
       "      <th>season</th>\n",
       "      <th>class</th>\n",
       "    </tr>\n",
       "  </thead>\n",
       "  <tbody>\n",
       "    <tr>\n",
       "      <th>0</th>\n",
       "      <td>1372</td>\n",
       "      <td>2</td>\n",
       "      <td>2</td>\n",
       "      <td>10</td>\n",
       "      <td>3.807467</td>\n",
       "      <td>1545</td>\n",
       "      <td>11</td>\n",
       "      <td>1.804273</td>\n",
       "      <td>1</td>\n",
       "    </tr>\n",
       "    <tr>\n",
       "      <th>1</th>\n",
       "      <td>1461</td>\n",
       "      <td>2</td>\n",
       "      <td>2</td>\n",
       "      <td>10</td>\n",
       "      <td>3.807467</td>\n",
       "      <td>1557</td>\n",
       "      <td>11</td>\n",
       "      <td>1.804273</td>\n",
       "      <td>1</td>\n",
       "    </tr>\n",
       "    <tr>\n",
       "      <th>2</th>\n",
       "      <td>1371</td>\n",
       "      <td>2</td>\n",
       "      <td>2</td>\n",
       "      <td>10</td>\n",
       "      <td>3.612496</td>\n",
       "      <td>1566</td>\n",
       "      <td>11</td>\n",
       "      <td>1.804273</td>\n",
       "      <td>1</td>\n",
       "    </tr>\n",
       "    <tr>\n",
       "      <th>3</th>\n",
       "      <td>1261</td>\n",
       "      <td>6</td>\n",
       "      <td>2</td>\n",
       "      <td>10</td>\n",
       "      <td>3.787572</td>\n",
       "      <td>1566</td>\n",
       "      <td>11</td>\n",
       "      <td>1.804273</td>\n",
       "      <td>1</td>\n",
       "    </tr>\n",
       "    <tr>\n",
       "      <th>4</th>\n",
       "      <td>1305</td>\n",
       "      <td>6</td>\n",
       "      <td>2</td>\n",
       "      <td>10</td>\n",
       "      <td>3.711971</td>\n",
       "      <td>1464</td>\n",
       "      <td>11</td>\n",
       "      <td>0.943195</td>\n",
       "      <td>1</td>\n",
       "    </tr>\n",
       "  </tbody>\n",
       "</table>\n",
       "</div>"
      ],
      "text/plain": [
       "   cap-diameter  cap-shape  gill-attachment  gill-color  stem-height  \\\n",
       "0          1372          2                2          10     3.807467   \n",
       "1          1461          2                2          10     3.807467   \n",
       "2          1371          2                2          10     3.612496   \n",
       "3          1261          6                2          10     3.787572   \n",
       "4          1305          6                2          10     3.711971   \n",
       "\n",
       "   stem-width  stem-color    season  class  \n",
       "0        1545          11  1.804273      1  \n",
       "1        1557          11  1.804273      1  \n",
       "2        1566          11  1.804273      1  \n",
       "3        1566          11  1.804273      1  \n",
       "4        1464          11  0.943195      1  "
      ]
     },
     "execution_count": 2,
     "metadata": {},
     "output_type": "execute_result"
    }
   ],
   "source": [
    "mushroom_data = pd.read_csv('raw_data/mushroom_cleaned.csv')\n",
    "mushroom_data.head()"
   ]
  },
  {
   "attachments": {},
   "cell_type": "markdown",
   "metadata": {},
   "source": [
    "### 2. Prepare Data"
   ]
  },
  {
   "cell_type": "code",
   "execution_count": 30,
   "metadata": {},
   "outputs": [],
   "source": [
    "X = mushroom_data.drop(columns=['class'])\n",
    "y = mushroom_data['class']"
   ]
  },
  {
   "cell_type": "code",
   "execution_count": 31,
   "metadata": {},
   "outputs": [],
   "source": [
    "X_train, X_test, y_train, y_test = train_test_split(X, y, test_size=0.2, random_state=42)"
   ]
  },
  {
   "cell_type": "code",
   "execution_count": 32,
   "metadata": {},
   "outputs": [],
   "source": [
    "X_train = X_train.to_numpy()\n",
    "X_test = X_test.to_numpy()\n",
    "y_train = y_train.to_numpy()\n",
    "y_test = y_test.to_numpy()"
   ]
  },
  {
   "cell_type": "code",
   "execution_count": 33,
   "metadata": {},
   "outputs": [],
   "source": [
    "# convert to tensors\n",
    "X_train_tensor = torch.tensor(X_train, dtype = torch.float32)\n",
    "X_test_tensor = torch.tensor(X_test, dtype = torch.float32)\n",
    "y_train_tensor = torch.tensor(y_train, dtype = torch.long)\n",
    "y_test_tensor = torch.tensor(y_test, dtype = torch.long)"
   ]
  },
  {
   "attachments": {},
   "cell_type": "markdown",
   "metadata": {},
   "source": [
    "### 3. Create NN"
   ]
  },
  {
   "attachments": {},
   "cell_type": "markdown",
   "metadata": {},
   "source": [
    "#### 3.1: One Layer"
   ]
  },
  {
   "cell_type": "code",
   "execution_count": 35,
   "metadata": {},
   "outputs": [],
   "source": [
    "class NeuralNetwork(nn.Module):\n",
    "    def __init__(self, input_size, hidden_dimensions, output_size):\n",
    "        super(NeuralNetwork, self).__init__()\n",
    "        self.fc1 = nn.Linear(input_size, 8)\n",
    "        self.output_layer = nn.Linear(8, output_size)\n",
    "\n",
    "\n",
    "    # feedforward function\n",
    "    def forward(self, x):\n",
    "        x = torch.relu(self.fc1(x))\n",
    "        x = torch.sigmoid(self.output_layer(x))\n",
    "        return x"
   ]
  },
  {
   "attachments": {},
   "cell_type": "markdown",
   "metadata": {},
   "source": [
    "#### 3.2: 5 Layers"
   ]
  },
  {
   "cell_type": "code",
   "execution_count": 36,
   "metadata": {},
   "outputs": [],
   "source": [
    "class NeuralNetwork2(nn.Module):\n",
    "    def __init__(self, input_size, hidden_dimensions, output_size):\n",
    "        super(NeuralNetwork2, self).__init__()\n",
    "        self.fc1 = nn.Linear(input_size, 8)\n",
    "        self.fc2 = nn.Linear(8, 8)\n",
    "        self.fc3 = nn.Linear(8, 8)\n",
    "        self.fc4 = nn.Linear(8, 8)\n",
    "        self.fc5 = nn.Linear(8, 8)\n",
    "        self.output_layer = nn.Linear(8, output_size)\n",
    "\n",
    "\n",
    "    # feedforward function\n",
    "    def forward(self, x):\n",
    "        x = torch.relu(self.fc1(x))\n",
    "        x = torch.relu(self.fc2(x))\n",
    "        x = torch.relu(self.fc3(x))\n",
    "        x = torch.relu(self.fc4(x))\n",
    "        x = torch.relu(self.fc5(x))\n",
    "        x = torch.sigmoid(self.output_layer(x))\n",
    "        return x"
   ]
  },
  {
   "attachments": {},
   "cell_type": "markdown",
   "metadata": {},
   "source": [
    "#### 3.3: 10 Layers"
   ]
  },
  {
   "cell_type": "code",
   "execution_count": 37,
   "metadata": {},
   "outputs": [],
   "source": [
    "class NeuralNetwork3(nn.Module):\n",
    "    def __init__(self, input_size, hidden_dimensions, output_size):\n",
    "        super(NeuralNetwork3, self).__init__()\n",
    "        self.fc1 = nn.Linear(input_size, 8)\n",
    "        self.fc2 = nn.Linear(8, 8)\n",
    "        self.fc3 = nn.Linear(8, 8)\n",
    "        self.fc4 = nn.Linear(8, 8)\n",
    "        self.fc5 = nn.Linear(8, 8)\n",
    "        self.fc6 = nn.Linear(8, 8)\n",
    "        self.fc7 = nn.Linear(8, 8)\n",
    "        self.fc8 = nn.Linear(8, 8)\n",
    "        self.fc9 = nn.Linear(8, 8)\n",
    "        self.fc10 = nn.Linear(8, 8)\n",
    "        self.output_layer = nn.Linear(8, output_size)\n",
    "\n",
    "\n",
    "    # feedforward function\n",
    "    def forward(self, x):\n",
    "        x = torch.relu(self.fc1(x))\n",
    "        x = torch.relu(self.fc2(x))\n",
    "        x = torch.relu(self.fc3(x))\n",
    "        x = torch.relu(self.fc4(x))\n",
    "        x = torch.relu(self.fc5(x))\n",
    "        x = torch.relu(self.fc6(x))\n",
    "        x = torch.relu(self.fc7(x))\n",
    "        x = torch.relu(self.fc8(x))\n",
    "        x = torch.relu(self.fc9(x))\n",
    "        x = torch.relu(self.fc10(x)) \n",
    "        x = torch.sigmoid(self.output_layer(x))\n",
    "        return x"
   ]
  },
  {
   "attachments": {},
   "cell_type": "markdown",
   "metadata": {},
   "source": [
    "### 3. Train Model"
   ]
  },
  {
   "attachments": {},
   "cell_type": "markdown",
   "metadata": {},
   "source": [
    "#### 3.1: One Layer Model\n",
    "##### Notes: It seems as if the accuracy of the model can hover around 65% if the number of hidden dimensions is around 8."
   ]
  },
  {
   "cell_type": "code",
   "execution_count": 38,
   "metadata": {},
   "outputs": [
    {
     "name": "stdout",
     "output_type": "stream",
     "text": [
      "Epoch [10/200], Loss: 0.6835\n",
      "Epoch [20/200], Loss: 0.6818\n",
      "Epoch [30/200], Loss: 0.6685\n",
      "Epoch [40/200], Loss: 0.6678\n",
      "Epoch [50/200], Loss: 0.6659\n",
      "Epoch [60/200], Loss: 0.6651\n",
      "Epoch [70/200], Loss: 0.6642\n",
      "Epoch [80/200], Loss: 0.6632\n",
      "Epoch [90/200], Loss: 0.6624\n",
      "Epoch [100/200], Loss: 0.6619\n",
      "Epoch [110/200], Loss: 0.6615\n",
      "Epoch [120/200], Loss: 0.6611\n",
      "Epoch [130/200], Loss: 0.6608\n",
      "Epoch [140/200], Loss: 0.6605\n",
      "Epoch [150/200], Loss: 0.6602\n",
      "Epoch [160/200], Loss: 0.6599\n",
      "Epoch [170/200], Loss: 0.6596\n",
      "Epoch [180/200], Loss: 0.6594\n",
      "Epoch [190/200], Loss: 0.6591\n",
      "Epoch [200/200], Loss: 0.6589\n"
     ]
    }
   ],
   "source": [
    "# variables needed\n",
    "input_size = X_train.shape[1]\n",
    "hidden_dimensions = 8\n",
    "output_size = len(set(y))\n",
    "\n",
    "# initialize model\n",
    "model = NeuralNetwork(input_size, hidden_dimensions, output_size)\n",
    "\n",
    "# loss function and optimizer\n",
    "criterion = nn.CrossEntropyLoss()\n",
    "optimizer = optim.Adam(model.parameters(), 0.001)\n",
    "\n",
    "# Create DataLoader for batching\n",
    "train_dataset = TensorDataset(X_train_tensor, y_train_tensor)\n",
    "train_loader = DataLoader(train_dataset, batch_size = 128, shuffle = True)\n",
    "\n",
    "# number of training loops\n",
    "epochs = 200\n",
    "\n",
    "for epoch in range(epochs):\n",
    "    model.train()\n",
    "    optimizer.zero_grad()\n",
    "\n",
    "    output = model(X_train_tensor)\n",
    "\n",
    "    loss = criterion(output, y_train_tensor)\n",
    "\n",
    "    loss.backward()\n",
    "\n",
    "    optimizer.step()\n",
    "    if (epoch + 1) % 10 == 0:\n",
    "        print(f'Epoch [{epoch+1}/{epochs}], Loss: {loss.item():.4f}')\n"
   ]
  },
  {
   "cell_type": "code",
   "execution_count": 11,
   "metadata": {},
   "outputs": [
    {
     "name": "stdout",
     "output_type": "stream",
     "text": [
      "Epoch [10/200], Loss: 0.7569\n",
      "Epoch [20/200], Loss: 0.6951\n",
      "Epoch [30/200], Loss: 0.6815\n",
      "Epoch [40/200], Loss: 0.6783\n",
      "Epoch [50/200], Loss: 0.6759\n",
      "Epoch [60/200], Loss: 0.6739\n",
      "Epoch [70/200], Loss: 0.6722\n",
      "Epoch [80/200], Loss: 0.6708\n",
      "Epoch [90/200], Loss: 0.6698\n",
      "Epoch [100/200], Loss: 0.6691\n",
      "Epoch [110/200], Loss: 0.6686\n",
      "Epoch [120/200], Loss: 0.6681\n",
      "Epoch [130/200], Loss: 0.6675\n",
      "Epoch [140/200], Loss: 0.6667\n",
      "Epoch [150/200], Loss: 0.6657\n",
      "Epoch [160/200], Loss: 0.6645\n",
      "Epoch [170/200], Loss: 0.6636\n",
      "Epoch [180/200], Loss: 0.6627\n",
      "Epoch [190/200], Loss: 0.6617\n",
      "Epoch [200/200], Loss: 0.6610\n"
     ]
    }
   ],
   "source": [
    "# variables needed\n",
    "input_size = X_train.shape[1]\n",
    "hidden_dimensions = 8\n",
    "output_size = len(set(y))\n",
    "\n",
    "# initialize model\n",
    "model2 = NeuralNetwork2(input_size, hidden_dimensions, output_size)\n",
    "\n",
    "# loss function and optimizer\n",
    "criterion = nn.CrossEntropyLoss()\n",
    "optimizer = optim.Adam(model2.parameters(), 0.001)\n",
    "\n",
    "# Create DataLoader for batching\n",
    "train_dataset = TensorDataset(X_train_tensor, y_train_tensor)\n",
    "train_loader = DataLoader(train_dataset, batch_size = 128, shuffle = True)\n",
    "\n",
    "# number of training loops\n",
    "epochs = 200\n",
    "\n",
    "for epoch in range(epochs):\n",
    "    model2.train()\n",
    "    optimizer.zero_grad()\n",
    "\n",
    "    output = model2(X_train_tensor)\n",
    "\n",
    "    loss = criterion(output, y_train_tensor)\n",
    "\n",
    "    loss.backward()\n",
    "\n",
    "    optimizer.step()\n",
    "    if (epoch + 1) % 10 == 0:\n",
    "        print(f'Epoch [{epoch+1}/{epochs}], Loss: {loss.item():.4f}')\n"
   ]
  },
  {
   "cell_type": "code",
   "execution_count": 12,
   "metadata": {},
   "outputs": [
    {
     "name": "stdout",
     "output_type": "stream",
     "text": [
      "Epoch [10/200], Loss: 0.6942\n",
      "Epoch [20/200], Loss: 0.6931\n",
      "Epoch [30/200], Loss: 0.6920\n",
      "Epoch [40/200], Loss: 0.6905\n",
      "Epoch [50/200], Loss: 0.6883\n",
      "Epoch [60/200], Loss: 0.6851\n",
      "Epoch [70/200], Loss: 0.6801\n",
      "Epoch [80/200], Loss: 0.6741\n",
      "Epoch [90/200], Loss: 0.6673\n",
      "Epoch [100/200], Loss: 0.6600\n",
      "Epoch [110/200], Loss: 0.6534\n",
      "Epoch [120/200], Loss: 0.6486\n",
      "Epoch [130/200], Loss: 0.6463\n",
      "Epoch [140/200], Loss: 0.6449\n",
      "Epoch [150/200], Loss: 0.6431\n",
      "Epoch [160/200], Loss: 0.6421\n",
      "Epoch [170/200], Loss: 0.6414\n",
      "Epoch [180/200], Loss: 0.6408\n",
      "Epoch [190/200], Loss: 0.6403\n",
      "Epoch [200/200], Loss: 0.6399\n"
     ]
    }
   ],
   "source": [
    "# variables needed\n",
    "input_size = X_train.shape[1]\n",
    "hidden_dimensions = 8\n",
    "output_size = len(set(y))\n",
    "\n",
    "# initialize model\n",
    "model3 = NeuralNetwork3(input_size, hidden_dimensions, output_size)\n",
    "\n",
    "# loss function and optimizer\n",
    "criterion = nn.CrossEntropyLoss()\n",
    "optimizer = optim.Adam(model3.parameters(), 0.001)\n",
    "\n",
    "# Create DataLoader for batching\n",
    "train_dataset = TensorDataset(X_train_tensor, y_train_tensor)\n",
    "train_loader = DataLoader(train_dataset, batch_size = 128, shuffle = True)\n",
    "\n",
    "# number of training loops\n",
    "epochs = 200\n",
    "\n",
    "for epoch in range(epochs):\n",
    "    model3.train()\n",
    "    optimizer.zero_grad()\n",
    "\n",
    "    output = model3(X_train_tensor)\n",
    "\n",
    "    loss = criterion(output, y_train_tensor)\n",
    "\n",
    "    loss.backward()\n",
    "\n",
    "    optimizer.step()\n",
    "    if (epoch + 1) % 10 == 0:\n",
    "        print(f'Epoch [{epoch+1}/{epochs}], Loss: {loss.item():.4f}')"
   ]
  },
  {
   "attachments": {},
   "cell_type": "markdown",
   "metadata": {},
   "source": [
    "### 4. Evaluation"
   ]
  },
  {
   "cell_type": "code",
   "execution_count": 13,
   "metadata": {},
   "outputs": [
    {
     "name": "stdout",
     "output_type": "stream",
     "text": [
      "Accuracy on test set: 54.73%\n"
     ]
    }
   ],
   "source": [
    "model.eval()\n",
    "with torch.no_grad():\n",
    "    outputs = model(X_test_tensor)\n",
    "    _, predicted = torch.max(outputs, 1)\n",
    "    accuracy = accuracy_score(y_test, predicted.numpy())\n",
    "\n",
    "# look at number of data points versus \n",
    "print(f\"Accuracy on test set: {accuracy * 100:.2f}%\")"
   ]
  },
  {
   "cell_type": "code",
   "execution_count": 14,
   "metadata": {},
   "outputs": [
    {
     "name": "stdout",
     "output_type": "stream",
     "text": [
      "Accuracy on test set: 54.58%\n"
     ]
    }
   ],
   "source": [
    "model2.eval()\n",
    "with torch.no_grad():\n",
    "    outputs = model2(X_test_tensor)\n",
    "    _, predicted = torch.max(outputs, 1)\n",
    "    accuracy = accuracy_score(y_test, predicted.numpy())\n",
    "\n",
    "# look at number of data points versus \n",
    "print(f\"Accuracy on test set: {accuracy * 100:.2f}%\")"
   ]
  },
  {
   "cell_type": "code",
   "execution_count": 15,
   "metadata": {},
   "outputs": [
    {
     "name": "stdout",
     "output_type": "stream",
     "text": [
      "Accuracy on test set: 64.07%\n"
     ]
    }
   ],
   "source": [
    "model3.eval()\n",
    "with torch.no_grad():\n",
    "    outputs = model3(X_test_tensor)\n",
    "    _, predicted = torch.max(outputs, 1)\n",
    "    accuracy = accuracy_score(y_test, predicted.numpy())\n",
    "\n",
    "# look at number of data points versus \n",
    "print(f\"Accuracy on test set: {accuracy * 100:.2f}%\")"
   ]
  },
  {
   "attachments": {},
   "cell_type": "markdown",
   "metadata": {},
   "source": [
    "### 5. Weight Investigation"
   ]
  },
  {
   "cell_type": "code",
   "execution_count": 17,
   "metadata": {},
   "outputs": [
    {
     "name": "stdout",
     "output_type": "stream",
     "text": [
      "Name: fc1.weight \n",
      "Weights: tensor([[ 0.2387,  0.0258, -0.3252,  0.1016, -0.3942,  0.1539, -0.1679, -0.1363],\n",
      "        [-0.2809, -0.3775,  0.3450,  0.1672,  0.0327, -0.0880,  0.0327, -0.1802],\n",
      "        [ 0.2990,  0.0234,  0.0285, -0.1127,  0.2231, -0.3995, -0.2106,  0.0007],\n",
      "        [-0.2504, -0.1502,  0.0345,  0.0789,  0.1604, -0.1709,  0.0305, -0.1773],\n",
      "        [ 0.0175, -0.3634, -0.0414, -0.1690, -0.2371,  0.2215,  0.0031, -0.2760],\n",
      "        [ 0.3078,  0.4919, -0.1406,  0.1532, -0.0693, -0.0619, -0.5109,  0.0617],\n",
      "        [ 0.2909, -0.2655, -0.1063,  0.0360, -0.0134, -0.0398, -0.1900, -0.3218],\n",
      "        [ 0.0015,  0.4539,  0.1389,  0.2444, -0.0710,  0.3623,  0.1103, -0.0593]])\n",
      "Name: fc1.bias \n",
      "Weights: tensor([-0.0063,  0.2964,  0.1121, -0.1362, -0.3389,  0.2712, -0.3071,  0.1033])\n",
      "Name: output_layer.weight \n",
      "Weights: tensor([[-0.3252, -0.0891, -0.0938, -0.1069, -0.3295, -0.3057, -0.1696, -0.3456],\n",
      "        [-0.0844, -0.1708,  0.3559, -0.2348, -0.3235,  0.0879, -0.3376,  0.2611]])\n",
      "Name: output_layer.bias \n",
      "Weights: tensor([0.0475, 0.4097])\n"
     ]
    }
   ],
   "source": [
    "# dictionary to hold names and weights associated with each layer\n",
    "model_dict = {\"name\":[], \"weights\":[]}\n",
    "\n",
    "for name, param in model.state_dict().items():\n",
    "    model_dict[\"name\"].append(name)\n",
    "    model_dict[\"weights\"].append(param.data.numpy())\n",
    "    print(\"Name:\", name,\"\\nWeights:\",param.data)"
   ]
  },
  {
   "cell_type": "code",
   "execution_count": 18,
   "metadata": {},
   "outputs": [
    {
     "data": {
      "text/plain": [
       "{'name': ['fc1.weight',\n",
       "  'fc1.bias',\n",
       "  'output_layer.weight',\n",
       "  'output_layer.bias'],\n",
       " 'weights': [array([[ 0.23869374,  0.02584178, -0.32520738,  0.10164981, -0.39416698,\n",
       "           0.15387496, -0.1679393 , -0.13626201],\n",
       "         [-0.28093806, -0.37753716,  0.3450295 ,  0.16721071,  0.03270569,\n",
       "          -0.08800536,  0.03269282, -0.18017702],\n",
       "         [ 0.29904163,  0.02336185,  0.0284912 , -0.1126909 ,  0.22307822,\n",
       "          -0.39947554, -0.21062909,  0.00074621],\n",
       "         [-0.2504399 , -0.15019922,  0.03448501,  0.07894401,  0.16038372,\n",
       "          -0.17093422,  0.03053706, -0.17733952],\n",
       "         [ 0.01751198, -0.36336544, -0.04138327, -0.16895126, -0.23705816,\n",
       "           0.22147001,  0.00308962, -0.27595672],\n",
       "         [ 0.3078053 ,  0.49191186, -0.14063422,  0.15316725, -0.0693302 ,\n",
       "          -0.06191294, -0.51086813,  0.06165016],\n",
       "         [ 0.29091328, -0.26550615, -0.10627773,  0.03598186, -0.01335853,\n",
       "          -0.03977702, -0.19003245, -0.32178313],\n",
       "         [ 0.00148033,  0.45389798,  0.13892102,  0.24440038, -0.07101174,\n",
       "           0.36229107,  0.11030532, -0.05934403]], dtype=float32),\n",
       "  array([-0.00628129,  0.29643878,  0.1121408 , -0.13620587, -0.33892876,\n",
       "          0.27124754, -0.30709457,  0.10332797], dtype=float32),\n",
       "  array([[-0.32523605, -0.0890931 , -0.09382836, -0.10694118, -0.3294698 ,\n",
       "          -0.30566832, -0.16961406, -0.3456087 ],\n",
       "         [-0.08441284, -0.1708    ,  0.35591093, -0.23484883, -0.3235293 ,\n",
       "           0.08789296, -0.3375572 ,  0.2611357 ]], dtype=float32),\n",
       "  array([0.04747773, 0.40973702], dtype=float32)]}"
      ]
     },
     "execution_count": 18,
     "metadata": {},
     "output_type": "execute_result"
    }
   ],
   "source": [
    "model_dict"
   ]
  },
  {
   "cell_type": "code",
   "execution_count": 19,
   "metadata": {},
   "outputs": [
    {
     "name": "stdout",
     "output_type": "stream",
     "text": [
      "Name: fc1.weight \n",
      "Weights: tensor([[ 0.1728,  0.2686, -0.0428, -0.0965, -0.0634,  0.3046, -0.0115,  0.4522],\n",
      "        [ 0.0091, -0.0811, -0.0602,  0.0360,  0.0484,  0.3978, -0.0612, -0.3473],\n",
      "        [-0.1340, -0.3210, -0.5111, -0.5259,  0.1246,  0.3245,  0.0723, -0.3573],\n",
      "        [-0.2698, -0.3491, -0.2754,  0.1513, -0.1010,  0.0210, -0.0819,  0.2670],\n",
      "        [-0.0706,  0.1300, -0.1344,  0.3509,  0.6550,  0.0853,  0.4636,  0.5317],\n",
      "        [-0.0050, -0.1643,  0.1602, -0.3576, -0.0093, -0.1444,  0.1237, -0.0999],\n",
      "        [ 0.4684, -0.0952,  0.3299,  0.1859,  0.3090, -0.1921,  0.2687,  0.4617],\n",
      "        [ 0.1116,  0.2330,  0.2869,  0.4408, -0.0760,  0.2352,  0.0895, -0.1207]])\n",
      "Name: fc1.bias \n",
      "Weights: tensor([ 0.4895,  0.0623, -0.5470, -0.3798,  0.5818, -0.0200, -0.0246, -0.1917])\n",
      "Name: fc2.weight \n",
      "Weights: tensor([[ 0.2576, -0.1458, -0.2538,  0.2041,  0.4500,  0.3044, -0.3330,  0.0208],\n",
      "        [-0.1951, -0.2000,  0.0996,  0.2265,  0.1476, -0.0742, -0.2026, -0.1134],\n",
      "        [ 0.2025, -0.2250,  0.2246, -0.0135, -0.3522,  0.1367, -0.0323, -0.3068],\n",
      "        [ 0.3744, -0.2804, -0.3705, -0.1449,  0.3899, -0.0533,  0.0564,  0.2129],\n",
      "        [ 0.0150,  0.1260, -0.0974, -0.3474,  0.4051, -0.0358,  0.1138,  0.1713],\n",
      "        [ 0.2748,  0.3438,  0.2500, -0.1372, -0.4987, -0.0861, -0.0736,  0.1464],\n",
      "        [ 0.0926, -0.0899,  0.0961,  0.0143, -0.1070, -0.2815,  0.0428,  0.2384],\n",
      "        [-0.2815,  0.1836,  0.4660, -0.2010,  0.3579, -0.1159, -0.4210, -0.3523]])\n",
      "Name: fc2.bias \n",
      "Weights: tensor([-0.1752,  0.1902,  0.0483,  0.2945,  0.0563, -0.1869, -0.3670,  0.1464])\n",
      "Name: fc3.weight \n",
      "Weights: tensor([[ 0.5176, -0.0660, -0.0111,  0.4358,  0.4290, -0.1228, -0.0432, -0.1208],\n",
      "        [-0.4950, -0.1382,  0.2954, -0.0242,  0.0941,  0.3088,  0.0346, -0.5120],\n",
      "        [ 0.2400,  0.1338, -0.0979, -0.1675, -0.1268, -0.1528, -0.1246,  0.1731],\n",
      "        [-0.0527, -0.1514, -0.1492,  0.3929,  0.2522,  0.2865,  0.2223,  0.6345],\n",
      "        [-0.2889, -0.0454,  0.0832,  0.0013, -0.1469,  0.1315,  0.2551, -0.2354],\n",
      "        [ 0.2780, -0.3062, -0.0529,  0.1724,  0.1363, -0.3319,  0.1174,  0.1981],\n",
      "        [-0.3401, -0.0973, -0.1995,  0.2707, -0.2583, -0.1570, -0.2441,  0.1788],\n",
      "        [-0.0175, -0.0969, -0.2656,  0.1267,  0.2248,  0.1474,  0.1458, -0.4614]])\n",
      "Name: fc3.bias \n",
      "Weights: tensor([ 0.5168, -0.5094,  0.0966,  0.1457,  0.1343,  0.3179, -0.2234,  0.0861])\n",
      "Name: fc4.weight \n",
      "Weights: tensor([[ 0.4991, -0.1918, -0.1376,  0.3086, -0.0958,  0.3383, -0.2895, -0.2711],\n",
      "        [-0.0683, -0.1905,  0.0107,  0.2632,  0.2568,  0.2026,  0.2750, -0.3210],\n",
      "        [ 0.4383, -0.3590,  0.0821, -0.0090, -0.3567,  0.2112,  0.1525,  0.0199],\n",
      "        [-0.0432, -0.2528,  0.1822,  0.0672,  0.0599, -0.2012,  0.0150, -0.0903],\n",
      "        [-0.0137,  0.2749, -0.2846,  0.1497,  0.1406,  0.2233, -0.1426,  0.1276],\n",
      "        [ 0.2667, -0.1633, -0.2969,  0.3577,  0.2313,  0.1636, -0.3581,  0.1196],\n",
      "        [ 0.1256, -0.3176,  0.2213, -0.2296, -0.0134,  0.1020, -0.0800, -0.2585],\n",
      "        [-0.2186, -0.2453, -0.0090, -0.1163, -0.1367, -0.0432, -0.2112, -0.2610]])\n",
      "Name: fc4.bias \n",
      "Weights: tensor([ 0.5385,  0.2141,  0.3300,  0.0644,  0.1446, -0.1390,  0.0592, -0.0200])\n",
      "Name: fc5.weight \n",
      "Weights: tensor([[-0.1553, -0.0985, -0.3510,  0.1511, -0.2880,  0.0053,  0.0515, -0.0006],\n",
      "        [ 0.3198,  0.0340,  0.1369,  0.0107,  0.2662,  0.0751, -0.0950,  0.2673],\n",
      "        [-0.0595, -0.1487,  0.1774,  0.2955,  0.2220,  0.1748,  0.3311,  0.3393],\n",
      "        [ 0.4933, -0.0582,  0.3990,  0.0348, -0.1327,  0.1188, -0.0875, -0.0499],\n",
      "        [-0.0679, -0.0470,  0.3018,  0.1570,  0.2507,  0.1817, -0.1686,  0.0779],\n",
      "        [-0.1337, -0.1920,  0.1338,  0.2518, -0.0834, -0.3497, -0.0257, -0.1174],\n",
      "        [ 0.0704, -0.0545, -0.3656,  0.0656,  0.1416,  0.3195, -0.3164, -0.1530],\n",
      "        [-0.2874,  0.0944, -0.0827,  0.1275, -0.3027,  0.0121, -0.2853, -0.3026]])\n",
      "Name: fc5.bias \n",
      "Weights: tensor([-0.2431,  0.0190,  0.1236,  0.4673, -0.0519, -0.2255,  0.1765,  0.1285])\n",
      "Name: output_layer.weight \n",
      "Weights: tensor([[-0.3044, -0.4050, -0.1166, -0.2111, -0.3340, -0.2681, -0.0185,  0.2833],\n",
      "        [ 0.2912,  0.1684, -0.2215,  0.3223,  0.0478,  0.1539, -0.1230,  0.2035]])\n",
      "Name: output_layer.bias \n",
      "Weights: tensor([-0.1237, -0.1984])\n"
     ]
    }
   ],
   "source": [
    "# dictionary to hold names and weights associated with each layer\n",
    "model_dict2 = {\"name\":[], \"weights\":[]}\n",
    "\n",
    "for name, param in model2.state_dict().items():\n",
    "    model_dict2[\"name\"].append(name)\n",
    "    model_dict2[\"weights\"].append(param.data.numpy())\n",
    "    print(\"Name:\", name,\"\\nWeights:\",param.data)"
   ]
  },
  {
   "cell_type": "code",
   "execution_count": 20,
   "metadata": {},
   "outputs": [
    {
     "data": {
      "text/plain": [
       "{'name': ['fc1.weight',\n",
       "  'fc1.bias',\n",
       "  'fc2.weight',\n",
       "  'fc2.bias',\n",
       "  'fc3.weight',\n",
       "  'fc3.bias',\n",
       "  'fc4.weight',\n",
       "  'fc4.bias',\n",
       "  'fc5.weight',\n",
       "  'fc5.bias',\n",
       "  'output_layer.weight',\n",
       "  'output_layer.bias'],\n",
       " 'weights': [array([[ 0.17277227,  0.26863208, -0.04275465, -0.09647609, -0.06344716,\n",
       "           0.30462858, -0.01150278,  0.45218542],\n",
       "         [ 0.00909317, -0.08114912, -0.06020085,  0.03596245,  0.04842234,\n",
       "           0.3977975 , -0.06119859, -0.3473499 ],\n",
       "         [-0.133974  , -0.32099256, -0.51109105, -0.5258687 ,  0.12463006,\n",
       "           0.32451677,  0.07228115, -0.35728648],\n",
       "         [-0.26981476, -0.34908095, -0.27539432,  0.1513378 , -0.10103544,\n",
       "           0.02098911, -0.0818983 ,  0.26695317],\n",
       "         [-0.0706021 ,  0.12999448, -0.13435039,  0.35086995,  0.6550047 ,\n",
       "           0.08530773,  0.46357974,  0.53169554],\n",
       "         [-0.00500128, -0.16431095,  0.16018032, -0.35758084, -0.00933139,\n",
       "          -0.14436778,  0.12367626, -0.09987406],\n",
       "         [ 0.46837005, -0.09521306,  0.32994974,  0.18589778,  0.30903992,\n",
       "          -0.19207135,  0.26870826,  0.46171448],\n",
       "         [ 0.11162828,  0.23296686,  0.28687575,  0.44083098, -0.0759921 ,\n",
       "           0.23522004,  0.08947695, -0.12071016]], dtype=float32),\n",
       "  array([ 0.4895069 ,  0.0623098 , -0.5470386 , -0.3797832 ,  0.5817965 ,\n",
       "         -0.02001093, -0.02463094, -0.19171795], dtype=float32),\n",
       "  array([[ 0.25761598, -0.14576323, -0.25382456,  0.20411183,  0.45003375,\n",
       "           0.3044252 , -0.33303958,  0.02081794],\n",
       "         [-0.19512157, -0.19997141,  0.09959689,  0.22648218,  0.14763477,\n",
       "          -0.07419178, -0.20258185, -0.11343095],\n",
       "         [ 0.20250861, -0.22500683,  0.22461013, -0.01347454, -0.35217384,\n",
       "           0.13674548, -0.03234737, -0.3068203 ],\n",
       "         [ 0.3744194 , -0.28036323, -0.37054753, -0.14491317,  0.38988417,\n",
       "          -0.05331948,  0.05642179,  0.21285294],\n",
       "         [ 0.01501231,  0.12603472, -0.09737748, -0.34738165,  0.4051057 ,\n",
       "          -0.03583545,  0.11381424,  0.17130122],\n",
       "         [ 0.27477437,  0.34376317,  0.25001252, -0.13715531, -0.49873126,\n",
       "          -0.08613262, -0.07358796,  0.14635344],\n",
       "         [ 0.09257232, -0.08991355,  0.0961164 ,  0.01433164, -0.1070303 ,\n",
       "          -0.28149647,  0.04279791,  0.2384037 ],\n",
       "         [-0.2815291 ,  0.18357098,  0.465952  , -0.20098   ,  0.35786512,\n",
       "          -0.1158565 , -0.4210428 , -0.35226142]], dtype=float32),\n",
       "  array([-0.17524911,  0.19022825,  0.04828817,  0.2944728 ,  0.05626264,\n",
       "         -0.18692453, -0.3670095 ,  0.14643873], dtype=float32),\n",
       "  array([[ 0.5176319 , -0.06598878, -0.01111025,  0.43581012,  0.4290483 ,\n",
       "          -0.12283687, -0.04324904, -0.12075455],\n",
       "         [-0.4949829 , -0.1382194 ,  0.29543597, -0.02418686,  0.09411114,\n",
       "           0.30883828,  0.03456248, -0.51202494],\n",
       "         [ 0.24001393,  0.13382855, -0.09785718, -0.16748267, -0.12679757,\n",
       "          -0.15278476, -0.12464243,  0.17314056],\n",
       "         [-0.05266929, -0.1513688 , -0.1492015 ,  0.39294213,  0.252165  ,\n",
       "           0.28652883,  0.22233708,  0.6345386 ],\n",
       "         [-0.28889868, -0.04539457,  0.08320186,  0.00126565, -0.14688276,\n",
       "           0.13149998,  0.25511777, -0.23538737],\n",
       "         [ 0.2780114 , -0.30621105, -0.05286062,  0.1723511 ,  0.1362561 ,\n",
       "          -0.33193567,  0.11744252,  0.19806264],\n",
       "         [-0.34006834, -0.09726864, -0.19951706,  0.27067322, -0.2583098 ,\n",
       "          -0.15695094, -0.24412403,  0.17881581],\n",
       "         [-0.01749664, -0.09694174, -0.26562765,  0.12669872,  0.22478   ,\n",
       "           0.14739475,  0.14584   , -0.46136   ]], dtype=float32),\n",
       "  array([ 0.5168019 , -0.5093959 ,  0.09657478,  0.14570811,  0.13432853,\n",
       "          0.31791466, -0.22341722,  0.08613237], dtype=float32),\n",
       "  array([[ 0.49912938, -0.19177596, -0.13761881,  0.30861017, -0.09575033,\n",
       "           0.33834663, -0.28952146, -0.27111575],\n",
       "         [-0.06831018, -0.1905121 ,  0.01066691,  0.26318175,  0.25684565,\n",
       "           0.20260343,  0.27498955, -0.32095614],\n",
       "         [ 0.43832713, -0.35902527,  0.08207625, -0.00896073, -0.35667288,\n",
       "           0.21123296,  0.15251885,  0.01989006],\n",
       "         [-0.0431702 , -0.25276265,  0.18219098,  0.06719064,  0.05988462,\n",
       "          -0.20119016,  0.01497841, -0.09026384],\n",
       "         [-0.01366621,  0.27487078, -0.28464872,  0.14971432,  0.1405738 ,\n",
       "           0.22329068, -0.14256388,  0.12762131],\n",
       "         [ 0.2667378 , -0.16325249, -0.2968528 ,  0.35773265,  0.231345  ,\n",
       "           0.16360989, -0.35805705,  0.11961835],\n",
       "         [ 0.12560615, -0.31760323,  0.22134086, -0.22957438, -0.01341173,\n",
       "           0.1019533 , -0.08001384, -0.2585278 ],\n",
       "         [-0.2185577 , -0.24526912, -0.00903329, -0.11629289, -0.13671274,\n",
       "          -0.04317629, -0.2112378 , -0.26097488]], dtype=float32),\n",
       "  array([ 0.5384901 ,  0.21410735,  0.330015  ,  0.06439077,  0.14456545,\n",
       "         -0.1389804 ,  0.05923247, -0.02001464], dtype=float32),\n",
       "  array([[-0.155267  , -0.09849668, -0.35102677,  0.15113392, -0.2880018 ,\n",
       "           0.00527927,  0.05153802, -0.00062361],\n",
       "         [ 0.31983733,  0.034043  ,  0.13692829,  0.01065215,  0.26616934,\n",
       "           0.07510829, -0.09502542,  0.26729056],\n",
       "         [-0.05953179, -0.14871275,  0.17744818,  0.295476  ,  0.22202034,\n",
       "           0.17482677,  0.33105394,  0.33927646],\n",
       "         [ 0.49331918, -0.05819512,  0.3990474 ,  0.03477424, -0.13272657,\n",
       "           0.11877323, -0.08754861, -0.04992163],\n",
       "         [-0.06794057, -0.04700616,  0.30182582,  0.15695682,  0.250721  ,\n",
       "           0.18170218, -0.1686287 ,  0.07787481],\n",
       "         [-0.13368702, -0.19201973,  0.13379934,  0.25176832, -0.08344179,\n",
       "          -0.3496899 , -0.0257183 , -0.11737712],\n",
       "         [ 0.07042459, -0.05445585, -0.3655683 ,  0.06560078,  0.1415775 ,\n",
       "           0.3194982 , -0.31642184, -0.15298669],\n",
       "         [-0.28735846,  0.09439781, -0.08266944,  0.12749016, -0.30266142,\n",
       "           0.01207483, -0.28528577, -0.30258256]], dtype=float32),\n",
       "  array([-0.24309261,  0.01904064,  0.12357664,  0.46729556, -0.05190264,\n",
       "         -0.2255113 ,  0.17645681,  0.12851426], dtype=float32),\n",
       "  array([[-0.3044474 , -0.4049982 , -0.11658537, -0.2111168 , -0.33395693,\n",
       "          -0.26814377, -0.01847656,  0.28326276],\n",
       "         [ 0.29124704,  0.16837731, -0.22154124,  0.3222711 ,  0.04784748,\n",
       "           0.15394887, -0.12300526,  0.2034547 ]], dtype=float32),\n",
       "  array([-0.1236901 , -0.19837417], dtype=float32)]}"
      ]
     },
     "execution_count": 20,
     "metadata": {},
     "output_type": "execute_result"
    }
   ],
   "source": [
    "model_dict2"
   ]
  },
  {
   "cell_type": "code",
   "execution_count": 21,
   "metadata": {},
   "outputs": [
    {
     "name": "stdout",
     "output_type": "stream",
     "text": [
      "Name: fc1.weight \n",
      "Weights: tensor([[-0.0991,  0.1620,  0.3505,  0.1226, -0.1499, -0.1789, -0.1531, -0.2830],\n",
      "        [-0.3839,  0.1862,  0.1358, -0.1436, -0.4141,  0.2570,  0.1000,  0.6053],\n",
      "        [ 0.2139,  0.0672,  0.5041,  0.2738,  0.2610,  0.4425, -0.2728,  0.2356],\n",
      "        [-0.1900,  0.1519, -0.1271, -0.0690, -0.1819,  0.3676, -0.1788, -0.4247],\n",
      "        [ 0.2827,  0.1492, -0.1609,  0.2589,  0.0201,  0.3483, -0.0314,  0.3706],\n",
      "        [-0.3675,  0.4706,  0.1700,  0.0553,  0.0954,  0.0871, -0.0716,  0.2517],\n",
      "        [-0.0345, -0.3012,  0.0440,  0.0874,  0.2781, -0.0978,  0.0054,  0.3156],\n",
      "        [ 0.3129,  0.3280,  0.4055,  0.0032, -0.0112, -0.3979,  0.3888,  0.4134]])\n",
      "Name: fc1.bias \n",
      "Weights: tensor([-0.1482,  0.1765,  0.3821, -0.2045, -0.1022,  0.3616, -0.3140,  0.0934])\n",
      "Name: fc2.weight \n",
      "Weights: tensor([[-0.2154, -0.5712,  0.2974, -0.3009, -0.1139,  0.5407, -0.1857,  0.1338],\n",
      "        [-0.2058, -0.0394, -0.0514,  0.1253, -0.2809, -0.3023,  0.0208,  0.2239],\n",
      "        [-0.0330, -0.0254,  0.4486,  0.1239,  0.0450, -0.1590,  0.0090, -0.1406],\n",
      "        [ 0.1838,  0.3204, -0.0839,  0.1261, -0.1368,  0.5312, -0.3215, -0.0937],\n",
      "        [-0.3084,  0.3111, -0.1365,  0.0479, -0.3311, -0.2481,  0.1021,  0.0429],\n",
      "        [ 0.2345,  0.5094,  0.2145,  0.1639, -0.0512,  0.4290,  0.0443, -0.1408],\n",
      "        [ 0.0461, -0.3321,  0.4008, -0.1060,  0.2556, -0.2877, -0.1512,  0.4555],\n",
      "        [-0.2279, -0.0161, -0.0052, -0.4568,  0.1332, -0.1000,  0.3268, -0.1889]])\n",
      "Name: fc2.bias \n",
      "Weights: tensor([ 0.3625,  0.2017, -0.5089,  0.2429,  0.0816, -0.0729,  0.4527, -0.4554])\n",
      "Name: fc3.weight \n",
      "Weights: tensor([[ 0.1809, -0.0453,  0.3074,  0.2357,  0.2713,  0.3656, -0.1698, -0.4995],\n",
      "        [-0.0707,  0.2520,  0.2144, -0.3208, -0.1456, -0.0877,  0.3977,  0.3375],\n",
      "        [ 0.0769,  0.3013, -0.0163, -0.2199, -0.3506, -0.0666, -0.0803,  0.0446],\n",
      "        [ 0.0423, -0.2320, -0.0064, -0.0741, -0.0381, -0.2800,  0.3708, -0.5552],\n",
      "        [ 0.2668, -0.1306, -0.2907, -0.3152, -0.1588,  0.0194, -0.1935, -0.0351],\n",
      "        [-0.1459,  0.2468,  0.2343, -0.1477,  0.0891, -0.1890, -0.2970,  0.2723],\n",
      "        [-0.1365, -0.0647,  0.0691, -0.0257, -0.2640, -0.2782,  0.0432,  0.1683],\n",
      "        [ 0.0515, -0.1600, -0.3428,  0.1507, -0.0111, -0.2775, -0.1264,  0.2257]])\n",
      "Name: fc3.bias \n",
      "Weights: tensor([ 0.1180, -0.2269,  0.0885,  0.2124,  0.1724,  0.1438,  0.5984, -0.1800])\n",
      "Name: fc4.weight \n",
      "Weights: tensor([[ 0.2781, -0.0747, -0.0389, -0.0575, -0.0136,  0.3470,  0.0821,  0.1779],\n",
      "        [ 0.3231,  0.3189,  0.2252,  0.4013, -0.3507,  0.2582,  0.2985,  0.0762],\n",
      "        [-0.0908,  0.2693,  0.2010, -0.3026, -0.3252,  0.2992, -0.3526,  0.1202],\n",
      "        [-0.2426, -0.3121, -0.2042, -0.3404, -0.0438,  0.2271, -0.1671,  0.3122],\n",
      "        [ 0.4510, -0.0777, -0.1435,  0.3275,  0.2426, -0.1596,  0.1610,  0.0279],\n",
      "        [-0.2182, -0.3145, -0.0224,  0.2172, -0.0089, -0.1264, -0.3176, -0.2034],\n",
      "        [ 0.0722,  0.2889,  0.0213, -0.2853, -0.1184, -0.2599, -0.0030,  0.3459],\n",
      "        [-0.1979, -0.0414,  0.1241,  0.3772, -0.0388,  0.3286,  0.4753, -0.1920]])\n",
      "Name: fc4.bias \n",
      "Weights: tensor([ 0.0425,  0.0632, -0.1715, -0.1347,  0.2296, -0.3075, -0.5559,  0.0048])\n",
      "Name: fc5.weight \n",
      "Weights: tensor([[-0.3441,  0.4281, -0.0535,  0.0679, -0.0402, -0.2936,  0.3339, -0.1280],\n",
      "        [-0.2648,  0.2081, -0.2819, -0.3173,  0.2452, -0.3378, -0.3123, -0.0133],\n",
      "        [-0.2221,  0.2326, -0.1338, -0.3170,  0.0524, -0.1982,  0.4582,  0.3115],\n",
      "        [ 0.0329,  0.0421,  0.3664, -0.1991,  0.3846, -0.2305,  0.1748,  0.1574],\n",
      "        [ 0.3392, -0.2735, -0.4180, -0.3302,  0.3848, -0.1208,  0.0153, -0.1305],\n",
      "        [ 0.1054,  0.2235, -0.0140,  0.1472,  0.3947,  0.2446, -0.3539,  0.3586],\n",
      "        [-0.2842,  0.1127,  0.0653, -0.1351, -0.3470, -0.2109,  0.1548,  0.1467],\n",
      "        [-0.0228,  0.2100,  0.0263, -0.3239, -0.2647,  0.1512,  0.1282, -0.2549]])\n",
      "Name: fc5.bias \n",
      "Weights: tensor([-0.3164,  0.4813, -0.1059, -0.2645,  0.5030,  0.4097,  0.2063, -0.3776])\n",
      "Name: fc6.weight \n",
      "Weights: tensor([[ 0.1832, -0.0695,  0.1866,  0.0870,  0.0291, -0.2443,  0.4051,  0.1389],\n",
      "        [ 0.0742,  0.0646,  0.1825,  0.3345, -0.4062, -0.3679,  0.0866,  0.3355],\n",
      "        [-0.0477,  0.1033,  0.3164, -0.2361,  0.1320,  0.3111, -0.2162, -0.4132],\n",
      "        [-0.1463, -0.3596,  0.2882,  0.2221,  0.3320, -0.0975, -0.2806, -0.0488],\n",
      "        [ 0.4672,  0.3095,  0.4577,  0.2619, -0.1398,  0.1113,  0.3501, -0.2529],\n",
      "        [ 0.1096, -0.4244,  0.2722, -0.1041, -0.2042,  0.0085,  0.2680, -0.1488],\n",
      "        [ 0.1185,  0.1045,  0.4807, -0.1514,  0.1953,  0.4629,  0.3546, -0.2535],\n",
      "        [-0.0474, -0.0151, -0.2446,  0.3853,  0.2302,  0.2423,  0.1380,  0.2887]])\n",
      "Name: fc6.bias \n",
      "Weights: tensor([-0.1504, -0.0125,  0.3395,  0.0736,  0.1441, -0.5631,  0.5373,  0.3214])\n",
      "Name: fc7.weight \n",
      "Weights: tensor([[ 0.2084,  0.3808, -0.2711, -0.3028,  0.2666,  0.1177,  0.2174, -0.2837],\n",
      "        [ 0.1521,  0.0392,  0.0101,  0.0022,  0.0147, -0.0699,  0.0279, -0.3971],\n",
      "        [ 0.5322,  0.2263, -0.3113,  0.2496,  0.4398, -0.0542,  0.4229,  0.4484],\n",
      "        [-0.3716, -0.3978,  0.3141,  0.0494,  0.3537, -0.2713, -0.1512, -0.0783],\n",
      "        [-0.3412, -0.4214,  0.1969,  0.3059,  0.0187, -0.3730,  0.2918,  0.2257],\n",
      "        [ 0.2836,  0.3069, -0.0262,  0.3193, -0.1648, -0.2448,  0.0013,  0.0266],\n",
      "        [-0.1898, -0.2485,  0.1715,  0.2418, -0.2547,  0.3177,  0.1010, -0.1274],\n",
      "        [ 0.1379,  0.2879,  0.0175,  0.1301, -0.2148, -0.1506,  0.0808, -0.1165]])\n",
      "Name: fc7.bias \n",
      "Weights: tensor([-0.4081, -0.2281, -0.1378,  0.3188,  0.4516, -0.1463, -0.2826, -0.2653])\n",
      "Name: fc8.weight \n",
      "Weights: tensor([[ 0.1462, -0.3015, -0.1904, -0.0137, -0.2785,  0.1984, -0.0074, -0.0683],\n",
      "        [ 0.2754, -0.2228, -0.1382,  0.4732,  0.2307, -0.0240,  0.2747,  0.3120],\n",
      "        [ 0.0193, -0.0416,  0.3245, -0.1886,  0.1215, -0.3219,  0.0106,  0.0967],\n",
      "        [ 0.1438, -0.0512, -0.2311, -0.2060,  0.2191, -0.1506, -0.0682, -0.0951],\n",
      "        [ 0.3278, -0.2659,  0.2970, -0.1793, -0.5175,  0.4578, -0.3189, -0.3271],\n",
      "        [-0.3037,  0.2091,  0.0511,  0.2570,  0.5620,  0.1407, -0.2462,  0.0807],\n",
      "        [ 0.0976,  0.1821,  0.2252,  0.1757,  0.2824, -0.1402,  0.2072,  0.3036],\n",
      "        [-0.0841, -0.1207,  0.0212,  0.3361,  0.2239,  0.0538, -0.2285, -0.0201]])\n",
      "Name: fc8.bias \n",
      "Weights: tensor([ 0.0955,  0.4959,  0.5127, -0.2316, -0.1016,  0.3953,  0.2002,  0.2659])\n",
      "Name: fc9.weight \n",
      "Weights: tensor([[-0.1817,  0.0037, -0.0605, -0.1732,  0.4795, -0.4465, -0.0136, -0.2372],\n",
      "        [ 0.0437, -0.2547,  0.2145,  0.3401,  0.3246,  0.1011,  0.2586, -0.5278],\n",
      "        [ 0.2349,  0.3205, -0.2864,  0.0763, -0.0965,  0.2805, -0.3436, -0.0076],\n",
      "        [ 0.2024, -0.3390, -0.0823,  0.1203, -0.1583, -0.1174,  0.1816, -0.0220],\n",
      "        [-0.2231,  0.5244, -0.0368, -0.2128,  0.0833,  0.4263, -0.1845,  0.0783],\n",
      "        [-0.3303, -0.1435,  0.3724,  0.0345, -0.3691,  0.4915,  0.2391,  0.3713],\n",
      "        [ 0.3360,  0.0448,  0.1633, -0.3177,  0.0584, -0.2037, -0.0370,  0.1630],\n",
      "        [ 0.1403,  0.3854,  0.3724, -0.2536, -0.2735, -0.1431,  0.2363,  0.3131]])\n",
      "Name: fc9.bias \n",
      "Weights: tensor([ 0.1259, -0.2725, -0.1880, -0.2355,  0.3386,  0.1017, -0.4879,  0.5023])\n",
      "Name: fc10.weight \n",
      "Weights: tensor([[ 0.2061, -0.2075, -0.0229, -0.1684,  0.5438, -0.1250, -0.1641,  0.2210],\n",
      "        [-0.5044,  0.0501,  0.3249, -0.1977,  0.4951,  0.4281, -0.2747,  0.2910],\n",
      "        [-0.2431,  0.0859,  0.0763,  0.0760,  0.3498,  0.0971, -0.2711,  0.1403],\n",
      "        [-0.1822, -0.2639, -0.2775,  0.0418,  0.2942,  0.5124, -0.4052,  0.4724],\n",
      "        [ 0.0338,  0.3696, -0.2475,  0.0128, -0.1876, -0.1289,  0.3521,  0.2460],\n",
      "        [-0.3378,  0.3201,  0.2191, -0.2066,  0.2907,  0.4727, -0.1755, -0.2370],\n",
      "        [-0.4271, -0.1852, -0.2537, -0.3462,  0.0426,  0.4954, -0.0995,  0.4713],\n",
      "        [ 0.3719, -0.0672, -0.3180,  0.0421, -0.2353,  0.0036,  0.1660,  0.2763]])\n",
      "Name: fc10.bias \n",
      "Weights: tensor([ 0.1282,  0.3043,  0.1585,  0.0853,  0.2122, -0.2585,  0.0521,  0.0916])\n",
      "Name: output_layer.weight \n",
      "Weights: tensor([[-0.0454, -0.4973, -0.3777, -0.2254,  0.2668, -0.2710, -0.2360,  0.1923],\n",
      "        [ 0.4532, -0.1492,  0.1008,  0.4810,  0.0192,  0.3327,  0.4804,  0.0110]])\n",
      "Name: output_layer.bias \n",
      "Weights: tensor([-0.0255, -0.0590])\n"
     ]
    }
   ],
   "source": [
    "# dictionary to hold names and weights associated with each layer\n",
    "model_dict3 = {\"name\":[], \"weights\":[]}\n",
    "\n",
    "for name, param in model3.state_dict().items():\n",
    "    model_dict3[\"name\"].append(name)\n",
    "    model_dict3[\"weights\"].append(param.data.numpy())\n",
    "    print(\"Name:\", name,\"\\nWeights:\",param.data)"
   ]
  },
  {
   "cell_type": "code",
   "execution_count": 22,
   "metadata": {},
   "outputs": [
    {
     "data": {
      "text/plain": [
       "{'name': ['fc1.weight',\n",
       "  'fc1.bias',\n",
       "  'fc2.weight',\n",
       "  'fc2.bias',\n",
       "  'fc3.weight',\n",
       "  'fc3.bias',\n",
       "  'fc4.weight',\n",
       "  'fc4.bias',\n",
       "  'fc5.weight',\n",
       "  'fc5.bias',\n",
       "  'fc6.weight',\n",
       "  'fc6.bias',\n",
       "  'fc7.weight',\n",
       "  'fc7.bias',\n",
       "  'fc8.weight',\n",
       "  'fc8.bias',\n",
       "  'fc9.weight',\n",
       "  'fc9.bias',\n",
       "  'fc10.weight',\n",
       "  'fc10.bias',\n",
       "  'output_layer.weight',\n",
       "  'output_layer.bias'],\n",
       " 'weights': [array([[-0.09913927,  0.16196124,  0.35049063,  0.12263486, -0.1498951 ,\n",
       "          -0.17888409, -0.15311876, -0.28295505],\n",
       "         [-0.38389033,  0.18615443,  0.13583432, -0.14362659, -0.4140929 ,\n",
       "           0.2570011 ,  0.10004088,  0.60533124],\n",
       "         [ 0.21385147,  0.06723213,  0.50413495,  0.27382165,  0.26102325,\n",
       "           0.44247842, -0.27282366,  0.23564485],\n",
       "         [-0.19001135,  0.15189756, -0.12710038, -0.06897125, -0.18186611,\n",
       "           0.36763528, -0.17881858, -0.42467758],\n",
       "         [ 0.28269187,  0.149208  , -0.160944  ,  0.25887015,  0.02010026,\n",
       "           0.34829962, -0.03138996,  0.37057665],\n",
       "         [-0.36745176,  0.47064045,  0.17003143,  0.05528609,  0.09538045,\n",
       "           0.08712237, -0.07160337,  0.25168866],\n",
       "         [-0.03446168, -0.3011898 ,  0.04397377,  0.08744678,  0.27815   ,\n",
       "          -0.09779152,  0.00544083,  0.31561425],\n",
       "         [ 0.3129455 ,  0.3279519 ,  0.4055356 ,  0.00317237, -0.01115702,\n",
       "          -0.39785242,  0.3887622 ,  0.41335848]], dtype=float32),\n",
       "  array([-0.14821625,  0.17645419,  0.3820556 , -0.20445625, -0.10222183,\n",
       "          0.36161298, -0.31402904,  0.09337285], dtype=float32),\n",
       "  array([[-0.21538478, -0.57120776,  0.2973652 , -0.30093324, -0.11392985,\n",
       "           0.54074043, -0.1856919 ,  0.13375145],\n",
       "         [-0.20584023, -0.0394479 , -0.05143819,  0.12526542, -0.28086105,\n",
       "          -0.30225435,  0.02083105,  0.22393657],\n",
       "         [-0.03302249, -0.02544055,  0.4486303 ,  0.12394156,  0.04498078,\n",
       "          -0.15899828,  0.00899073, -0.14063303],\n",
       "         [ 0.18375705,  0.32040805, -0.08387957,  0.12610786, -0.13677889,\n",
       "           0.5312406 , -0.32148984, -0.09373128],\n",
       "         [-0.30844787,  0.311097  , -0.13651271,  0.04789573, -0.33114606,\n",
       "          -0.24807972,  0.10210028,  0.04292813],\n",
       "         [ 0.23446716,  0.50941443,  0.21453625,  0.1638613 , -0.05123757,\n",
       "           0.42902827,  0.0443331 , -0.14083901],\n",
       "         [ 0.04609778, -0.33209425,  0.400763  , -0.10602395,  0.25557443,\n",
       "          -0.2876814 , -0.15117198,  0.4555385 ],\n",
       "         [-0.22790986, -0.01613329, -0.00518842, -0.45678723,  0.13320719,\n",
       "          -0.10001199,  0.3268343 , -0.18890452]], dtype=float32),\n",
       "  array([ 0.36247447,  0.20172694, -0.50890106,  0.24293262,  0.08163393,\n",
       "         -0.07285006,  0.45265633, -0.45540172], dtype=float32),\n",
       "  array([[ 0.18092929, -0.04534361,  0.30744746,  0.23572844,  0.27126727,\n",
       "           0.36557415, -0.16979039, -0.49954918],\n",
       "         [-0.07067344,  0.25204125,  0.21443102, -0.3208322 , -0.14563   ,\n",
       "          -0.08772752,  0.3977053 ,  0.33748475],\n",
       "         [ 0.07689731,  0.30131045, -0.01627168, -0.21990135, -0.350554  ,\n",
       "          -0.06656986, -0.08027848,  0.04459858],\n",
       "         [ 0.0422802 , -0.23202498, -0.00640446, -0.07412006, -0.0380632 ,\n",
       "          -0.2799767 ,  0.37083772, -0.555232  ],\n",
       "         [ 0.2667944 , -0.13061203, -0.2906576 , -0.31518075, -0.15882748,\n",
       "           0.01939688, -0.19353552, -0.03514719],\n",
       "         [-0.14594114,  0.24684235,  0.23427805, -0.14765546,  0.08913949,\n",
       "          -0.18900944, -0.29701748,  0.27225372],\n",
       "         [-0.13653691, -0.06474543,  0.06908781, -0.02571014, -0.26399678,\n",
       "          -0.27816093,  0.04320878,  0.16831608],\n",
       "         [ 0.05152327, -0.16001266, -0.34282887,  0.15070245, -0.01107034,\n",
       "          -0.27747118, -0.126436  ,  0.22573677]], dtype=float32),\n",
       "  array([ 0.11802196, -0.22691604,  0.08848248,  0.21244262,  0.17240925,\n",
       "          0.14381859,  0.59840786, -0.17998374], dtype=float32),\n",
       "  array([[ 0.27810264, -0.0746953 , -0.03894547, -0.05745034, -0.01361037,\n",
       "           0.34698   ,  0.08206481,  0.17789546],\n",
       "         [ 0.32307675,  0.3188666 ,  0.22522041,  0.40125853, -0.35073847,\n",
       "           0.258186  ,  0.2984656 ,  0.0761593 ],\n",
       "         [-0.09078047,  0.26931718,  0.20104197, -0.30258435, -0.3252152 ,\n",
       "           0.2991816 , -0.3525644 ,  0.1202299 ],\n",
       "         [-0.24256754, -0.3120984 , -0.20415638, -0.34035093, -0.04376951,\n",
       "           0.22713682, -0.16712266,  0.31220266],\n",
       "         [ 0.4509548 , -0.0776873 , -0.14349402,  0.32753932,  0.24257815,\n",
       "          -0.15961513,  0.16099821,  0.0278559 ],\n",
       "         [-0.21824439, -0.3144818 , -0.0223532 ,  0.21715131, -0.00893158,\n",
       "          -0.12637046, -0.31760833, -0.20338273],\n",
       "         [ 0.07222196,  0.28888893,  0.02131236, -0.2852851 , -0.11844654,\n",
       "          -0.25994146, -0.00295321,  0.34589413],\n",
       "         [-0.19794323, -0.04136787,  0.12410685,  0.37720534, -0.03883982,\n",
       "           0.3286406 ,  0.47534782, -0.19197518]], dtype=float32),\n",
       "  array([ 0.04246837,  0.06319658, -0.1715335 , -0.13472392,  0.22963196,\n",
       "         -0.30752325, -0.55590415,  0.00478012], dtype=float32),\n",
       "  array([[-0.34409094,  0.42810503, -0.05352986,  0.06793246, -0.04023069,\n",
       "          -0.29355228,  0.33387184, -0.12798718],\n",
       "         [-0.26477864,  0.20808023, -0.2818538 , -0.31727493,  0.24515231,\n",
       "          -0.3377777 , -0.31226   , -0.01329491],\n",
       "         [-0.22213379,  0.2326418 , -0.13378729, -0.3169966 ,  0.05237475,\n",
       "          -0.19822636,  0.4582301 ,  0.31147522],\n",
       "         [ 0.03288259,  0.0421466 ,  0.3663726 , -0.19914107,  0.38458398,\n",
       "          -0.23047781,  0.17478503,  0.1574361 ],\n",
       "         [ 0.33921534, -0.27348477, -0.41796923, -0.33022663,  0.38475844,\n",
       "          -0.12079358,  0.01526432, -0.13049655],\n",
       "         [ 0.10536178,  0.22350574, -0.01397741,  0.14722338,  0.39469174,\n",
       "           0.24462125, -0.35392055,  0.35857093],\n",
       "         [-0.28415322,  0.11265416,  0.06526057, -0.13508773, -0.34700882,\n",
       "          -0.21090207,  0.15477905,  0.14668852],\n",
       "         [-0.02280168,  0.2100454 ,  0.02628685, -0.32389778, -0.2647459 ,\n",
       "           0.1511989 ,  0.12822828, -0.25490314]], dtype=float32),\n",
       "  array([-0.3164367 ,  0.4813243 , -0.10593863, -0.2645015 ,  0.50299406,\n",
       "          0.40974498,  0.20633328, -0.37761536], dtype=float32),\n",
       "  array([[ 0.18322302, -0.06946787,  0.18662575,  0.08698862,  0.02910326,\n",
       "          -0.24430831,  0.40507072,  0.13885221],\n",
       "         [ 0.07419105,  0.06460429,  0.18249914,  0.33454925, -0.40615645,\n",
       "          -0.36787912,  0.08664528,  0.33551404],\n",
       "         [-0.04767101,  0.10329812,  0.3163922 , -0.23614864,  0.13202201,\n",
       "           0.3111042 , -0.21616672, -0.41323254],\n",
       "         [-0.14632964, -0.35959473,  0.28815776,  0.22212577,  0.33197814,\n",
       "          -0.0975327 , -0.28062588, -0.04881182],\n",
       "         [ 0.46722913,  0.30946892,  0.45772597,  0.26185563, -0.13982421,\n",
       "           0.11127133,  0.3500847 , -0.25286728],\n",
       "         [ 0.10964792, -0.42441308,  0.27222404, -0.10409349, -0.20416193,\n",
       "           0.00853123,  0.2680066 , -0.1487541 ],\n",
       "         [ 0.11852572,  0.10451674,  0.4807434 , -0.15140182,  0.1952881 ,\n",
       "           0.46285862,  0.35458058, -0.25349656],\n",
       "         [-0.04740953, -0.01511782, -0.24463019,  0.3852634 ,  0.23020822,\n",
       "           0.24225686,  0.13797303,  0.28870714]], dtype=float32),\n",
       "  array([-0.15038502, -0.01250275,  0.33950552,  0.07358275,  0.14408077,\n",
       "         -0.56311136,  0.53732485,  0.32138842], dtype=float32),\n",
       "  array([[ 0.20835651,  0.38084376, -0.27113503, -0.30282286,  0.26655722,\n",
       "           0.11766559,  0.2173834 , -0.28374946],\n",
       "         [ 0.15213646,  0.03917088,  0.01011328,  0.00215194,  0.01465941,\n",
       "          -0.06991336,  0.02789086, -0.39714533],\n",
       "         [ 0.5321851 ,  0.22627622, -0.3113046 ,  0.24956213,  0.4398152 ,\n",
       "          -0.05419875,  0.422939  ,  0.44841883],\n",
       "         [-0.37157935, -0.39777678,  0.31405327,  0.04943347,  0.35373962,\n",
       "          -0.27125007, -0.15117761, -0.07832067],\n",
       "         [-0.34120786, -0.4213984 ,  0.19694771,  0.30585662,  0.0186817 ,\n",
       "          -0.37302008,  0.29184118,  0.22574861],\n",
       "         [ 0.28363103,  0.3068676 , -0.02623689,  0.31932002, -0.1648065 ,\n",
       "          -0.24479644,  0.00132135,  0.0266499 ],\n",
       "         [-0.1897682 , -0.24845374,  0.17152563,  0.24183622, -0.2546958 ,\n",
       "           0.3176712 ,  0.10102934, -0.1273616 ],\n",
       "         [ 0.13785617,  0.28791696,  0.01753291,  0.13009311, -0.21477006,\n",
       "          -0.1506466 ,  0.0808145 , -0.11652377]], dtype=float32),\n",
       "  array([-0.40805712, -0.22814487, -0.13775693,  0.31875417,  0.45156166,\n",
       "         -0.14629655, -0.28259346, -0.2653154 ], dtype=float32),\n",
       "  array([[ 0.14617804, -0.30151665, -0.1903735 , -0.01373899, -0.2784704 ,\n",
       "           0.19843969, -0.00744909, -0.06826264],\n",
       "         [ 0.27543184, -0.22276865, -0.1382425 ,  0.47315568,  0.23070732,\n",
       "          -0.02397157,  0.27469188,  0.31201202],\n",
       "         [ 0.01929751, -0.04155553,  0.32448292, -0.18863645,  0.12146263,\n",
       "          -0.3218944 ,  0.01060092,  0.09673046],\n",
       "         [ 0.14376226, -0.05116084, -0.23105311, -0.20600617,  0.21913221,\n",
       "          -0.15062946, -0.06816712, -0.09511495],\n",
       "         [ 0.32779217, -0.2658924 ,  0.29699856, -0.17929274, -0.51751316,\n",
       "           0.4577915 , -0.3188877 , -0.32709473],\n",
       "         [-0.30371848,  0.20909847,  0.05112875,  0.25704718,  0.56196696,\n",
       "           0.1407251 , -0.24616207,  0.08069909],\n",
       "         [ 0.09763799,  0.18205099,  0.22523819,  0.17572518,  0.28236178,\n",
       "          -0.14017688,  0.20724896,  0.30355978],\n",
       "         [-0.08405124, -0.120685  ,  0.02115108,  0.33612555,  0.22393923,\n",
       "           0.05382093, -0.22851577, -0.02010389]], dtype=float32),\n",
       "  array([ 0.09545247,  0.49593654,  0.5126835 , -0.23159271, -0.10163247,\n",
       "          0.39528623,  0.20020884,  0.26588577], dtype=float32),\n",
       "  array([[-0.18171297,  0.00369105, -0.06048832, -0.17322987,  0.47952726,\n",
       "          -0.44654647, -0.01361026, -0.23723099],\n",
       "         [ 0.04369124, -0.25472546,  0.21445978,  0.3400934 ,  0.32459906,\n",
       "           0.10106132,  0.25860372, -0.52779675],\n",
       "         [ 0.23494157,  0.32054898, -0.28644925,  0.07625154, -0.09652728,\n",
       "           0.28054836, -0.34360424, -0.00755396],\n",
       "         [ 0.20237961, -0.33896104, -0.08228119,  0.12033877, -0.1582759 ,\n",
       "          -0.11739261,  0.18162835, -0.0220146 ],\n",
       "         [-0.22305086,  0.52442837, -0.03681507, -0.21281229,  0.08329098,\n",
       "           0.42634723, -0.18450548,  0.07826725],\n",
       "         [-0.33034965, -0.14352712,  0.37237355,  0.03452039, -0.36906096,\n",
       "           0.49153504,  0.23912802,  0.37126392],\n",
       "         [ 0.33596352,  0.04478018,  0.16334453, -0.31770346,  0.05837315,\n",
       "          -0.20368102, -0.03703112,  0.16304757],\n",
       "         [ 0.14033212,  0.38541108,  0.37240264, -0.25356302, -0.27350774,\n",
       "          -0.14305986,  0.23632494,  0.3130875 ]], dtype=float32),\n",
       "  array([ 0.12590015, -0.27252042, -0.18797667, -0.23547181,  0.33856708,\n",
       "          0.10166061, -0.48786783,  0.5022701 ], dtype=float32),\n",
       "  array([[ 0.20606323, -0.20749445, -0.02285016, -0.16842817,  0.54378706,\n",
       "          -0.12499072, -0.16411455,  0.22097965],\n",
       "         [-0.5044096 ,  0.05011798,  0.32489887, -0.19774261,  0.49512872,\n",
       "           0.4280761 , -0.27470377,  0.29102275],\n",
       "         [-0.24314328,  0.08589008,  0.07626623,  0.07599346,  0.34980768,\n",
       "           0.09714831, -0.27106023,  0.14026582],\n",
       "         [-0.18218781, -0.26392284, -0.27753964,  0.04183352,  0.29421756,\n",
       "           0.5124196 , -0.4052057 ,  0.47237948],\n",
       "         [ 0.03380254,  0.36962846, -0.24745628,  0.01281404, -0.1875825 ,\n",
       "          -0.12892719,  0.3521138 ,  0.2460198 ],\n",
       "         [-0.3378134 ,  0.32009336,  0.21907523, -0.20660372,  0.29065803,\n",
       "           0.47271645, -0.17549156, -0.23700489],\n",
       "         [-0.42708647, -0.18522656, -0.2536913 , -0.34624577,  0.04256839,\n",
       "           0.49540508, -0.0994783 ,  0.4712871 ],\n",
       "         [ 0.37187085, -0.06722011, -0.31804463,  0.04211125, -0.23525041,\n",
       "           0.00362332,  0.1659933 ,  0.27626294]], dtype=float32),\n",
       "  array([ 0.12815993,  0.30425876,  0.15850858,  0.08527621,  0.21222506,\n",
       "         -0.25851136,  0.05213012,  0.09159036], dtype=float32),\n",
       "  array([[-0.0453813 , -0.49733964, -0.37765312, -0.22535697,  0.26677197,\n",
       "          -0.27101308, -0.23599653,  0.19226792],\n",
       "         [ 0.45321736, -0.14924043,  0.10076658,  0.48096386,  0.019193  ,\n",
       "           0.33265352,  0.48043332,  0.0110236 ]], dtype=float32),\n",
       "  array([-0.02552879, -0.05899416], dtype=float32)]}"
      ]
     },
     "execution_count": 22,
     "metadata": {},
     "output_type": "execute_result"
    }
   ],
   "source": [
    "model_dict3"
   ]
  },
  {
   "attachments": {},
   "cell_type": "markdown",
   "metadata": {},
   "source": [
    "### 6. Next Steps"
   ]
  },
  {
   "cell_type": "code",
   "execution_count": 23,
   "metadata": {},
   "outputs": [],
   "source": [
    "# look into visualizing the transformation of the weights over each layer\n",
    "# also look into the transformation over each epoch\n",
    "# visualize with box plots "
   ]
  },
  {
   "attachments": {},
   "cell_type": "markdown",
   "metadata": {},
   "source": [
    "### 6. Visualization"
   ]
  },
  {
   "cell_type": "code",
   "execution_count": 24,
   "metadata": {},
   "outputs": [],
   "source": [
    "# plotting the weights of the first neural network with one layer\n",
    "# plot each neuron\n",
    "# plot each layer\n"
   ]
  },
  {
   "attachments": {},
   "cell_type": "markdown",
   "metadata": {},
   "source": [
    "#### 6.1: One Layer Network"
   ]
  },
  {
   "attachments": {},
   "cell_type": "markdown",
   "metadata": {},
   "source": [
    "##### 6.1a: One Layer NN Weights by Feature"
   ]
  },
  {
   "cell_type": "code",
   "execution_count": 25,
   "metadata": {},
   "outputs": [
    {
     "data": {
      "text/plain": [
       "Text(0, 0.5, 'Weight Value')"
      ]
     },
     "execution_count": 25,
     "metadata": {},
     "output_type": "execute_result"
    },
    {
     "data": {
      "image/png": "[encoded data removed]",
      "text/plain": [
       "<Figure size 640x480 with 1 Axes>"
      ]
     },
     "metadata": {},
     "output_type": "display_data"
    }
   ],
   "source": [
    "feature_boxplot_dict = {\"boxes\":[]}\n",
    "for i in range(len(model_dict[\"weights\"][0])):\n",
    "    feature_boxplot_dict[\"boxes\"].append(list(model_dict[\"weights\"][0][:,i]))\n",
    "bias = list(model_dict[\"weights\"][1])\n",
    "plt.boxplot(feature_boxplot_dict[\"boxes\"])\n",
    "plt.title(\"One Layer Neural Network Weights by Feature\")\n",
    "plt.xlabel(\"Feature\")\n",
    "plt.ylabel(\"Weight Value\")"
   ]
  },
  {
   "attachments": {},
   "cell_type": "markdown",
   "metadata": {},
   "source": [
    "##### 6.1b: One Layer NN Weights by Neuron"
   ]
  },
  {
   "cell_type": "code",
   "execution_count": 26,
   "metadata": {},
   "outputs": [
    {
     "data": {
      "text/plain": [
       "Text(0, 0.5, 'Weight Value')"
      ]
     },
     "execution_count": 26,
     "metadata": {},
     "output_type": "execute_result"
    },
    {
     "data": {
      "image/png": "[encoded data removed]",
      "text/plain": [
       "<Figure size 640x480 with 1 Axes>"
      ]
     },
     "metadata": {},
     "output_type": "display_data"
    }
   ],
   "source": [
    "neuron_boxplot_dict = {\"boxes\":[]}\n",
    "for i in range(len(model_dict[\"weights\"][0])):\n",
    "    neuron_boxplot_dict[\"boxes\"].append(list(model_dict[\"weights\"][0][i]))\n",
    "bias = list(model_dict[\"weights\"][1])\n",
    "plt.boxplot(neuron_boxplot_dict[\"boxes\"])\n",
    "plt.title(\"One Layer Neural Network Weights by Neuron\")\n",
    "plt.xlabel(\"Neuron #\")\n",
    "plt.ylabel(\"Weight Value\")"
   ]
  },
  {
   "cell_type": "code",
   "execution_count": 27,
   "metadata": {},
   "outputs": [],
   "source": [
    "# maybe add the bias to each of these box plots?"
   ]
  },
  {
   "attachments": {},
   "cell_type": "markdown",
   "metadata": {},
   "source": [
    "#### 6.2: Five Layer Network"
   ]
  },
  {
   "attachments": {},
   "cell_type": "markdown",
   "metadata": {},
   "source": [
    "##### 6.2a: Over Five Layers, Visualize Change of Weights by Feature"
   ]
  },
  {
   "cell_type": "code",
   "execution_count": 28,
   "metadata": {},
   "outputs": [
    {
     "data": {
      "text/plain": [
       "Text(0, 0.5, 'Weight Value')"
      ]
     },
     "execution_count": 28,
     "metadata": {},
     "output_type": "execute_result"
    },
    {
     "data": {
      "image/png": "[encoded data removed]",
      "text/plain": [
       "<Figure size 640x480 with 1 Axes>"
      ]
     },
     "metadata": {},
     "output_type": "display_data"
    }
   ],
   "source": [
    "feature_boxplot_dict2 = {\"boxes\":[]}\n",
    "\n",
    "# feature 1\n",
    "for j in range(0,len(model_dict2['name'])-2, 2):\n",
    "    feature_boxplot_dict2[\"boxes\"].append(list(model_dict2['weights'][j][:,0]))\n",
    "\n",
    "plt.boxplot(feature_boxplot_dict2[\"boxes\"])\n",
    "plt.title(\"5 Layer Neural Network Weights Feature #1 By Layer\")\n",
    "plt.xlabel(\"Layer\")\n",
    "plt.ylabel(\"Weight Value\")"
   ]
  },
  {
   "attachments": {},
   "cell_type": "markdown",
   "metadata": {},
   "source": [
    "#### 6.3: Ten Layer Network"
   ]
  },
  {
   "attachments": {},
   "cell_type": "markdown",
   "metadata": {},
   "source": [
    "##### 6.3a: Over Ten Layers, Visualize Change of Weights by Feature"
   ]
  },
  {
   "cell_type": "code",
   "execution_count": 29,
   "metadata": {},
   "outputs": [
    {
     "data": {
      "text/plain": [
       "Text(0, 0.5, 'Weight Value')"
      ]
     },
     "execution_count": 29,
     "metadata": {},
     "output_type": "execute_result"
    },
    {
     "data": {
      "image/png": "[encoded data removed]",
      "text/plain": [
       "<Figure size 640x480 with 1 Axes>"
      ]
     },
     "metadata": {},
     "output_type": "display_data"
    }
   ],
   "source": [
    "feature_boxplot_dict3 = {\"boxes\":[]}\n",
    "\n",
    "# feature 1\n",
    "for j in range(0,len(model_dict3['name'])-2, 2):\n",
    "    feature_boxplot_dict3[\"boxes\"].append(list(model_dict3['weights'][j][:,0]))\n",
    "\n",
    "plt.boxplot(feature_boxplot_dict3[\"boxes\"])\n",
    "plt.title(\"10 Layer Neural Network Weights Feature #1 By Layer\")\n",
    "plt.xlabel(\"Layer\")\n",
    "plt.ylabel(\"Weight Value\")"
   ]
  },
  {
   "cell_type": "code",
   "execution_count": null,
   "metadata": {},
   "outputs": [],
   "source": []
  }
 ],
 "metadata": {
  "kernelspec": {
   "display_name": "Python 3",
   "language": "python",
   "name": "python3"
  },
  "language_info": {
   "codemirror_mode": {
    "name": "ipython",
    "version": 3
   },
   "file_extension": ".py",
   "mimetype": "text/x-python",
   "name": "python",
   "nbconvert_exporter": "python",
   "pygments_lexer": "ipython3",
   "version": "3.10.1 (v3.10.1:2cd268a3a9, Dec  6 2021, 14:28:59) [Clang 13.0.0 (clang-1300.0.29.3)]"
  },
  "orig_nbformat": 4,
  "vscode": {
   "interpreter": {
    "hash": "aee8b7b246df8f9039afb4144a1f6fd8d2ca17a180786b69acc140d282b71a49"
   }
  }
 },
 "nbformat": 4,
 "nbformat_minor": 2
}
